{
  "nbformat": 4,
  "nbformat_minor": 0,
  "metadata": {
    "colab": {
      "provenance": [],
      "toc_visible": true
    },
    "kernelspec": {
      "name": "python3",
      "display_name": "Python 3"
    },
    "language_info": {
      "name": "python"
    }
  },
  "cells": [
    {
      "cell_type": "markdown",
      "source": [
        "# 📈 MaxExposure: Optimal Ad Spend Strategy using Linear Optimization\n",
        "\n",
        "This notebook solves a real-world marketing allocation problem using mixed-integer linear programming (MILP). We aim to maximize ad exposure across various media channels within strict budget and category constraints\n"
      ],
      "metadata": {
        "id": "-DSeemgRRRIT"
      }
    },
    {
      "cell_type": "markdown",
      "source": [
        "## 💼 Business Case\n",
        "\n",
        "SALS Marketing Inc. is developing an advertising plan for a major consumer goods client. An advertising plan specifies how many units of each kind of advertisement to purchase. SALS has promised a plan that will yield the highest possible exposure rating, which is a measure of the ability to reach the appropriate demographic group and generate demand.\n",
        "\n",
        "\n",
        "The options for advertisements with their respective costs (per-unit of advertising) and per-unit exposure ratings are given in the following table:\n",
        "<br><br>\n",
        "\n",
        "$$\n",
        "\\begin{array}{|l|l|c|c|}\n",
        "\\hline\n",
        "\\text{Category} & \\text{Subcategory} & \\text{Cost (\\$1000s) / Unit} & \\text{Exposure (1000s) / Unit} \\\\\n",
        "\\hline\n",
        "\\text{Magazines}  & \\text{Literary}    & 7.5  & 15   \\\\\n",
        "\\text{}  & \\text{News}        & 10   & 22.5 \\\\\n",
        "\\text{}  & \\text{Topical}     & 15   & 24   \\\\\n",
        "\\text{Newspapers} & \\text{Morning}     & 2    & 37.5 \\\\\n",
        "\\text{} & \\text{Evening}     & 3    & 75   \\\\\n",
        "\\text{Television} & \\text{Morning}     & 20   & 275  \\\\\n",
        "\\text{} & \\text{Mid-Day}     & 10   & 180  \\\\\n",
        "\\text{} & \\text{Evening}     & 60   & 810  \\\\\n",
        "\\text{Radio}      & \\text{Morning}     & 15   & 180  \\\\\n",
        "\\text{}      & \\text{Mid-Day}     & 15   & 17   \\\\\n",
        "\\text{}      & \\text{Evening}     & 10   & 16   \\\\\n",
        "\\hline\n",
        "\\end{array}\n",
        "$$\n",
        "\n",
        "<br><br>\n",
        "However, there are restrictions on the advertising plan that SALS can craft for their client. The client corporation has budgeted **\\$800,000** for the campaign. Moreover, to restrict overexposure to any particular audience, the client wants no more than **\\$300,000** put into any one category, i.e. Magazine, Newspapers, Television, Radio. Additionally, to ensure a broad range of exposure, at least **\\$100,000** must be spent in each category. Finally, there has to be an integer number of units purchased of each kind of advertisement as no partial units are allowed.\n",
        "\n",
        "\n",
        "\n",
        "The goal is to maximize total exposure using a fixed budget of $800,000, while ensuring a balanced distribution across magazines, newspapers, TV, and radio."
      ],
      "metadata": {
        "id": "E_dg2uCSRj4l"
      }
    },
    {
      "cell_type": "markdown",
      "source": [
        "## 📝 Business Understanding and Problem Formulation\n",
        "\n",
        "So, from the business case we're trying to decipher what is the objective, constraints, and decision variables?\n",
        "\n",
        "From the business case, we can see that SALS wants to \"promise a plan that will yield the highest exposure rating\" for the client. In other words, the objective is to maximize exposure.\n",
        "\n",
        "What are the constraints?\n",
        "\n",
        "The maximum budget is \\$800,000, the client wants at most \\$300,000 spent on any category, at least \\$100,000 spent for each category, and there can be no partial purchases for either media category.\n",
        "\n",
        "What are the decision variables?\n",
        "\n",
        "In other words, what choices do we have in control to achieve our objective while respecting our constraints? Well, from the business case, we're trying to decide how many units of each media to purchase to maximize the client's exposure. In total, we have eleven decision variables (literary magazines, news magazines, topical magazines, morning TV, mid-day TV, evening TV, morning radio, mid-day radio, and evening radio)."
      ],
      "metadata": {
        "id": "X6SXTo5yZMXe"
      }
    },
    {
      "cell_type": "markdown",
      "source": [
        "## ⚙ Code the Problem and Solve"
      ],
      "metadata": {
        "id": "3U7EeysPgKxL"
      }
    },
    {
      "cell_type": "code",
      "source": [
        "# import libraries\n",
        "import numpy as np\n",
        "import cvxpy as cp"
      ],
      "metadata": {
        "id": "9PztW4XhgSiT"
      },
      "execution_count": 1,
      "outputs": []
    },
    {
      "cell_type": "code",
      "source": [
        "# objective function: we want to maximize exposure across all decision variables\n",
        "# we're going to need a variable list so we can len the list for cp.Variable and later map it to the parameters\n",
        "# and apply the exposure across all decision variables to get total max exposure for the obj fct\n",
        "\n",
        "var_names = ['literary_magazines', 'news_magazines', 'topical_magazines',\n",
        "             'am_newsp', 'pm_newsp', 'am_tv', 'midday_tv', 'pm_tv',\n",
        "             'am_radio', 'midday_radio', 'pm_radio']\n",
        "\n",
        "# decision variables of length var_names, where they are whole numbers\n",
        "# we also need to make sure this constraint can't be negative too\n",
        "\n",
        "dec_vars = cp.Variable(len(var_names), integer=True)\n",
        "\n",
        "# we apply the dot product since we want to apply all exposure across decision variables respectively to get total exposure\n",
        "# so we need to make an array for the exposure per unit for each decision variable\n",
        "\n",
        "exposure = np.array([15, 22.5, 24, 37.5, 75, 275, 180, 810, 180, 17, 16])\n",
        "\n",
        "obj_fct = cp.Maximize(dec_vars @ exposure)\n",
        "\n",
        "# we're going to apply the cost across all decision variables (element wise product),\n",
        "# and then apply a mask so that only those applicable to that constraint are applied via dot product\n",
        "# so it'll be cleaner than typing out each constraint\n",
        "# make sure the exposure and cost arrays are the same order as the mask to make it easier to understand\n",
        "\n",
        "cost = np.array([7.5, 10, 15, 2, 3, 20, 10, 60, 15, 15, 10])\n",
        "\n",
        "mag_mask = np.array([1, 1, 1, 0, 0, 0, 0, 0, 0, 0, 0])\n",
        "newsp_mask = np.array([0, 0, 0, 1, 1, 0, 0, 0, 0, 0, 0])\n",
        "tv_mask = np.array([0, 0, 0, 0, 0, 1, 1, 1, 0, 0, 0])\n",
        "radio_mask = np.array([0, 0, 0, 0, 0, 0, 0, 0, 1, 1, 1])\n",
        "\n",
        "# these constraints will be added to a constraint list which will be part of the problem argument\n",
        "\n",
        "constraints = []\n",
        "\n",
        "# adding the non-neg constraint\n",
        "\n",
        "constraints.append(dec_vars >= 0)\n",
        "\n",
        "# adding the budget constraint where we use the dot product to find each decision variables cost sum to less than or equal to 800k\n",
        "\n",
        "constraints.append(dec_vars @ cost <= 800)\n",
        "\n",
        "# adding the minmax budget constraint for each category at least 100k and at most 300k\n",
        "# using the element wise product and mask dot product\n",
        "\n",
        "constraints.append(mag_mask @ cp.multiply(cost, dec_vars) >= 100)\n",
        "constraints.append(mag_mask @ cp.multiply(cost, dec_vars) <= 300)\n",
        "constraints.append(newsp_mask @ cp.multiply(cost, dec_vars) >= 100)\n",
        "constraints.append(newsp_mask @ cp.multiply(cost, dec_vars) <= 300)\n",
        "constraints.append(tv_mask @ cp.multiply(cost, dec_vars) >= 100)\n",
        "constraints.append(tv_mask @ cp.multiply(cost, dec_vars) <= 300)\n",
        "constraints.append(radio_mask @ cp.multiply(cost, dec_vars) >= 100)\n",
        "constraints.append(radio_mask @ cp.multiply(cost, dec_vars) <= 300)\n",
        "\n",
        "# setup the optimization problem\n",
        "\n",
        "problem = cp.Problem(obj_fct, constraints)"
      ],
      "metadata": {
        "id": "h0SxzqsqgXlm"
      },
      "execution_count": 5,
      "outputs": []
    },
    {
      "cell_type": "code",
      "source": [
        "# solve the problem\n",
        "problem.solve(solver = 'GLPK_MI', verbose = True)"
      ],
      "metadata": {
        "colab": {
          "base_uri": "https://localhost:8080/"
        },
        "id": "7x2mMWR2gYxO",
        "outputId": "52bbd722-dc0e-417b-a180-66da46ce499e"
      },
      "execution_count": 6,
      "outputs": [
        {
          "output_type": "stream",
          "name": "stderr",
          "text": [
            "(CVXPY) Jul 18 04:26:04 AM: Your problem has 11 variables, 20 constraints, and 0 parameters.\n",
            "(CVXPY) Jul 18 04:26:04 AM: It is compliant with the following grammars: DCP, DQCP\n",
            "(CVXPY) Jul 18 04:26:04 AM: (If you need to solve this problem multiple times, but with different data, consider using parameters.)\n",
            "(CVXPY) Jul 18 04:26:04 AM: CVXPY will first compile your problem; then, it will invoke a numerical solver to obtain a solution.\n",
            "(CVXPY) Jul 18 04:26:04 AM: Your problem is compiled with the CPP canonicalization backend.\n",
            "(CVXPY) Jul 18 04:26:04 AM: Compiling problem (target solver=GLPK_MI).\n",
            "(CVXPY) Jul 18 04:26:04 AM: Reduction chain: FlipObjective -> Dcp2Cone -> CvxAttr2Constr -> ConeMatrixStuffing -> GLPK_MI\n",
            "(CVXPY) Jul 18 04:26:04 AM: Applying reduction FlipObjective\n",
            "(CVXPY) Jul 18 04:26:04 AM: Applying reduction Dcp2Cone\n",
            "(CVXPY) Jul 18 04:26:04 AM: Applying reduction CvxAttr2Constr\n",
            "(CVXPY) Jul 18 04:26:04 AM: Applying reduction ConeMatrixStuffing\n",
            "(CVXPY) Jul 18 04:26:04 AM: Applying reduction GLPK_MI\n",
            "(CVXPY) Jul 18 04:26:04 AM: Finished problem compilation (took 6.004e-02 seconds).\n",
            "(CVXPY) Jul 18 04:26:04 AM: Invoking solver GLPK_MI  to obtain a solution.\n",
            "(CVXPY) Jul 18 04:26:04 AM: Problem status: optimal\n",
            "(CVXPY) Jul 18 04:26:04 AM: Optimal value: 1.424e+04\n",
            "(CVXPY) Jul 18 04:26:04 AM: Compilation took 6.004e-02 seconds\n",
            "(CVXPY) Jul 18 04:26:04 AM: Solver (including time spent in interface) took 1.050e-02 seconds\n"
          ]
        },
        {
          "output_type": "stream",
          "name": "stdout",
          "text": [
            "===============================================================================\n",
            "                                     CVXPY                                     \n",
            "                                     v1.6.7                                    \n",
            "===============================================================================\n",
            "-------------------------------------------------------------------------------\n",
            "                                  Compilation                                  \n",
            "-------------------------------------------------------------------------------\n",
            "-------------------------------------------------------------------------------\n",
            "                                Numerical solver                               \n",
            "-------------------------------------------------------------------------------\n",
            "-------------------------------------------------------------------------------\n",
            "                                    Summary                                    \n",
            "-------------------------------------------------------------------------------\n"
          ]
        },
        {
          "output_type": "execute_result",
          "data": {
            "text/plain": [
              "np.float64(14235.0)"
            ]
          },
          "metadata": {},
          "execution_count": 6
        }
      ]
    },
    {
      "cell_type": "code",
      "source": [
        "print(f\"Maximum total exposure: {(problem.value*1000):.0f}\\n\")"
      ],
      "metadata": {
        "colab": {
          "base_uri": "https://localhost:8080/"
        },
        "id": "4O5FDw53yD40",
        "outputId": "6a350955-f144-491b-a4a5-7a3b7e4da99e"
      },
      "execution_count": 15,
      "outputs": [
        {
          "output_type": "stream",
          "name": "stdout",
          "text": [
            "Maximum total exposure: 14235000\n",
            "\n"
          ]
        }
      ]
    },
    {
      "cell_type": "code",
      "source": [
        "for name, val in zip(var_names, dec_vars.value):\n",
        "    print(f\"{name}: {int(round(val))} units\")"
      ],
      "metadata": {
        "colab": {
          "base_uri": "https://localhost:8080/"
        },
        "id": "1Awtes-dyZ4Y",
        "outputId": "e77c69ea-13bd-4ef1-b678-8962b9ee3a2c"
      },
      "execution_count": 14,
      "outputs": [
        {
          "output_type": "stream",
          "name": "stdout",
          "text": [
            "literary_magazines: 0 units\n",
            "news_magazines: 10 units\n",
            "topical_magazines: 0 units\n",
            "am_newsp: 0 units\n",
            "pm_newsp: 98 units\n",
            "am_tv: 0 units\n",
            "midday_tv: 30 units\n",
            "pm_tv: 0 units\n",
            "am_radio: 7 units\n",
            "midday_radio: 0 units\n",
            "pm_radio: 0 units\n"
          ]
        }
      ]
    },
    {
      "cell_type": "code",
      "source": [
        "# initialize total cost outside of loop so it starts at 0 so we can print grand total\n",
        "\n",
        "grand_cost = 0\n",
        "\n",
        "# zip the variable names with the computed decision variables and if positive\n",
        "# print the total cost of that category\n",
        "for name, units, unit_cost in zip(var_names, dec_vars.value, cost):\n",
        "    units = int(round(units))\n",
        "    if units > 0:\n",
        "        total_var_cost = units * unit_cost * 1000  # convert from thousands\n",
        "        grand_cost += total_var_cost  # accumulate grand total\n",
        "        print(f\"{name}: {units} units → ${total_var_cost:,.0f}\")\n",
        "\n",
        "print(f\"\\nTotal campaign cost: ${grand_cost:,.0f}\")"
      ],
      "metadata": {
        "colab": {
          "base_uri": "https://localhost:8080/"
        },
        "id": "61BlkbrNy5ud",
        "outputId": "d43054a1-3fd1-4982-e036-04612fb4e257"
      },
      "execution_count": 23,
      "outputs": [
        {
          "output_type": "stream",
          "name": "stdout",
          "text": [
            "news_magazines: 10 units → $100,000\n",
            "pm_newsp: 98 units → $294,000\n",
            "midday_tv: 30 units → $300,000\n",
            "am_radio: 7 units → $105,000\n",
            "\n",
            "Total campaign cost: $799,000\n"
          ]
        }
      ]
    },
    {
      "cell_type": "code",
      "source": [
        "# same idea for total exposure\n",
        "\n",
        "grand_exposure = 0\n",
        "\n",
        "for name, units, unit_exposure in zip(var_names, dec_vars.value, exposure):\n",
        "    units = int(round(units))\n",
        "    if units > 0:\n",
        "        total_var_exposure = units * unit_exposure * 1000\n",
        "        grand_exposure += total_var_exposure\n",
        "        print(f\"{name}: {units} units → {total_var_exposure:,.0f} exposure\")\n",
        "\n",
        "\n",
        "print(f\"\\nTotal campaign exposure: {grand_exposure:,.0f} impressions\")"
      ],
      "metadata": {
        "colab": {
          "base_uri": "https://localhost:8080/"
        },
        "id": "a4owsrRE0ITy",
        "outputId": "84c1db66-c579-4935-c92b-a339cd747510"
      },
      "execution_count": 26,
      "outputs": [
        {
          "output_type": "stream",
          "name": "stdout",
          "text": [
            "news_magazines: 10 units → 225,000 exposure\n",
            "pm_newsp: 98 units → 7,350,000 exposure\n",
            "midday_tv: 30 units → 5,400,000 exposure\n",
            "am_radio: 7 units → 1,260,000 exposure\n",
            "\n",
            "Total campaign exposure: 14,235,000 impressions\n"
          ]
        }
      ]
    },
    {
      "cell_type": "code",
      "source": [
        "# bar graphs\n",
        "\n",
        "import matplotlib.pyplot as plt\n",
        "\n",
        "# step 1: round decision variables\n",
        "\n",
        "rounded_units = [int(round(u)) for u in dec_vars.value]\n",
        "\n",
        "# step 2: find total cost and exposure per ad type\n",
        "\n",
        "total_costs = [u * c * 1000 for u, c in zip(rounded_units, cost)]\n",
        "\n",
        "total_exposures = [u * e * 1000 for u, e in zip(rounded_units, exposure)]\n",
        "\n",
        "# step 3: filter nonzero purchases\n",
        "\n",
        "filtered_names = [name for name, u in zip(var_names, rounded_units) if u > 0]\n",
        "\n",
        "filtered_costs = [c for c, u in zip(total_costs, rounded_units) if u > 0]\n",
        "\n",
        "filtered_exposures = [e for e, u in zip(total_exposures, rounded_units) if u > 0]\n",
        "\n",
        "# step 4: plot with shared x axis\n",
        "\n",
        "fig, (ax1, ax2) = plt.subplots(2, 1, figsize = (12, 8), sharex = True)\n",
        "\n",
        "# bar chart for costs\n",
        "\n",
        "ax1.bar(filtered_names, filtered_costs, color = 'red')\n",
        "ax1.set_ylabel('Cost ($)')\n",
        "ax1.set_title('Cost per Ad Type')\n",
        "ax1.grid(axis = 'y', linestyle = '--', alpha = 0.5)\n",
        "\n",
        "# bar chart for exposures\n",
        "\n",
        "ax2.bar(filtered_names, filtered_exposures, color = 'blue')\n",
        "ax2.set_ylabel('Exposure')\n",
        "ax2.set_title('Exposure per Ad Type')\n",
        "ax2.grid(axis = 'y', linestyle = '--', alpha = 0.5)\n",
        "\n",
        "# format shared x-axis\n",
        "plt.tight_layout()\n",
        "plt.show()\n"
      ],
      "metadata": {
        "colab": {
          "base_uri": "https://localhost:8080/",
          "height": 807
        },
        "id": "i1kkh3lO2wU4",
        "outputId": "18f9dfda-c27e-414c-fa2b-f3f72fddc4ae"
      },
      "execution_count": 34,
      "outputs": [
        {
          "output_type": "display_data",
          "data": {
            "text/plain": [
              "<Figure size 1200x800 with 2 Axes>"
            ],
            "image/png": "[encoded data removed]"
          },
          "metadata": {}
        }
      ]
    },
    {
      "cell_type": "markdown",
      "source": [
        "## 📄 Conclusion"
      ],
      "metadata": {
        "id": "ekoetmck9_3c"
      }
    },
    {
      "cell_type": "markdown",
      "source": [
        "In conclusion this project allowed us to formulate and solve a linear integer optimization problem to determine the most effective advertising strategy for SALS Marketing Inc.'s client. Using CVXPY, we maximized the total exposure across various advertising channels including magazines, newspapers, television, and radio while adhering to strict budgetary and category constraints.\n",
        "\n",
        "The model successfully identified an optimal mix of ad units that maximized exposure within the \\$800,000 budget. It ensured that spending across categories stayed within client-specified bounds:\n",
        "- no more than \\$300,000 in any one category\n",
        "- no less than \\$100,000 in any one category\n",
        "- no partial purchases\n",
        "\n",
        "All reflecting real-world purchasing limitations.\n",
        "\n",
        "The final advertising plan produced a **total exposure of 14,235,000 impressions** at a **total cost of \\$799,000** allocating resources strategically across only a subset of available media types:\n",
        "- 10 units of news magazines\n",
        "- 98 units of evening newspaper\n",
        "- 30 units of mid-day TV\n",
        "- 7 units of a.m. radio\n",
        "\n",
        "\n",
        "The results were visualized to provide actionable insights and clearly communicate how each selected ad type contributed to the campaign's cost and reach.\n",
        "\n",
        "This approach demonstrates how linear programming can support data-driven marketing decisions, helping companies allocate advertising budgets efficiently while meeting strategic goals.\n",
        "\n"
      ],
      "metadata": {
        "id": "g2_YPB0Y7s5R"
      }
    },
    {
      "cell_type": "code",
      "source": [],
      "metadata": {
        "id": "_WNHEy-l97Qo"
      },
      "execution_count": null,
      "outputs": []
    }
  ]
}